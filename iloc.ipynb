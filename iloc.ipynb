{
 "cells": [
  {
   "cell_type": "code",
   "execution_count": 1,
   "metadata": {},
   "outputs": [
    {
     "name": "stdout",
     "output_type": "stream",
     "text": [
      "50\n"
     ]
    }
   ],
   "source": [
    "import pandas as pd\n",
    "\n",
    "# Example: Create a DataFrame\n",
    "data = pd.DataFrame({\n",
    "    'A': [10, 20, 30, 40],\n",
    "    'B': [50, 60, 70, 80],\n",
    "    'C': [90, 100, 110, 120]\n",
    "})\n",
    "\n",
    "# Example DataFrame\n",
    "#     A   B    C\n",
    "# 0  10  50   90\n",
    "# 1  20  60  100\n",
    "# 2  30  70  110\n",
    "# 3  40  80  120\n",
    "\n",
    "# Select the element in the first row and second column (row 0, column 1)\n",
    "print(data.iloc[0, 1])  # Output: 50\n"
   ]
  },
  {
   "cell_type": "code",
   "execution_count": 2,
   "metadata": {},
   "outputs": [
    {
     "data": {
      "text/html": [
       "<div>\n",
       "<style scoped>\n",
       "    .dataframe tbody tr th:only-of-type {\n",
       "        vertical-align: middle;\n",
       "    }\n",
       "\n",
       "    .dataframe tbody tr th {\n",
       "        vertical-align: top;\n",
       "    }\n",
       "\n",
       "    .dataframe thead th {\n",
       "        text-align: right;\n",
       "    }\n",
       "</style>\n",
       "<table border=\"1\" class=\"dataframe\">\n",
       "  <thead>\n",
       "    <tr style=\"text-align: right;\">\n",
       "      <th></th>\n",
       "      <th>A</th>\n",
       "      <th>B</th>\n",
       "      <th>C</th>\n",
       "    </tr>\n",
       "  </thead>\n",
       "  <tbody>\n",
       "    <tr>\n",
       "      <th>0</th>\n",
       "      <td>10</td>\n",
       "      <td>50</td>\n",
       "      <td>90</td>\n",
       "    </tr>\n",
       "    <tr>\n",
       "      <th>1</th>\n",
       "      <td>20</td>\n",
       "      <td>60</td>\n",
       "      <td>100</td>\n",
       "    </tr>\n",
       "    <tr>\n",
       "      <th>2</th>\n",
       "      <td>30</td>\n",
       "      <td>70</td>\n",
       "      <td>110</td>\n",
       "    </tr>\n",
       "    <tr>\n",
       "      <th>3</th>\n",
       "      <td>40</td>\n",
       "      <td>80</td>\n",
       "      <td>120</td>\n",
       "    </tr>\n",
       "  </tbody>\n",
       "</table>\n",
       "</div>"
      ],
      "text/plain": [
       "    A   B    C\n",
       "0  10  50   90\n",
       "1  20  60  100\n",
       "2  30  70  110\n",
       "3  40  80  120"
      ]
     },
     "execution_count": 2,
     "metadata": {},
     "output_type": "execute_result"
    }
   ],
   "source": [
    "data"
   ]
  },
  {
   "cell_type": "code",
   "execution_count": 3,
   "metadata": {},
   "outputs": [
    {
     "name": "stdout",
     "output_type": "stream",
     "text": [
      "A     20\n",
      "B     60\n",
      "C    100\n",
      "Name: 1, dtype: int64\n"
     ]
    }
   ],
   "source": [
    "# Select the entire second row (index position 1)\n",
    "print(data.iloc[1])  # Output: A = 20, B = 60, C = 100"
   ]
  },
  {
   "cell_type": "code",
   "execution_count": 4,
   "metadata": {},
   "outputs": [
    {
     "name": "stdout",
     "output_type": "stream",
     "text": [
      "    A   B\n",
      "0  10  50\n",
      "1  20  60\n"
     ]
    }
   ],
   "source": [
    "# Select the first two rows and first two columns\n",
    "print(data.iloc[0:2, 0:2])\n",
    "\n",
    "# Output:\n",
    "#     A   B\n",
    "# 0  10  50\n",
    "# 1  20  60"
   ]
  },
  {
   "cell_type": "code",
   "execution_count": 5,
   "metadata": {},
   "outputs": [
    {
     "name": "stdout",
     "output_type": "stream",
     "text": [
      "    B    C\n",
      "0  50   90\n",
      "2  70  110\n"
     ]
    }
   ],
   "source": [
    "# Select specific rows and columns (1st and 3rd rows, 2nd and 3rd columns)\n",
    "print(data.iloc[[0, 2], [1, 2]])\n",
    "\n",
    "# Output:\n",
    "#     B    C\n",
    "# 0  50   90\n",
    "# 2  70  110"
   ]
  },
  {
   "cell_type": "code",
   "execution_count": 6,
   "metadata": {},
   "outputs": [
    {
     "name": "stdout",
     "output_type": "stream",
     "text": [
      "0    50\n",
      "1    60\n",
      "2    70\n",
      "3    80\n",
      "Name: B, dtype: int64\n"
     ]
    }
   ],
   "source": [
    "# Select the second column (index position 1)\n",
    "print(data.iloc[:, 1])  # Output: 50, 60, 70, 80 (Column 'B')"
   ]
  },
  {
   "cell_type": "code",
   "execution_count": 7,
   "metadata": {},
   "outputs": [
    {
     "name": "stdout",
     "output_type": "stream",
     "text": [
      "A     40\n",
      "B     80\n",
      "C    120\n",
      "Name: 3, dtype: int64\n"
     ]
    }
   ],
   "source": [
    "# Select the last row\n",
    "print(data.iloc[-1])  # Output: A = 40, B = 80, C = 120"
   ]
  },
  {
   "cell_type": "code",
   "execution_count": null,
   "metadata": {},
   "outputs": [],
   "source": []
  }
 ],
 "metadata": {
  "kernelspec": {
   "display_name": "Python 3",
   "language": "python",
   "name": "python3"
  },
  "language_info": {
   "codemirror_mode": {
    "name": "ipython",
    "version": 3
   },
   "file_extension": ".py",
   "mimetype": "text/x-python",
   "name": "python",
   "nbconvert_exporter": "python",
   "pygments_lexer": "ipython3",
   "version": "3.12.0"
  }
 },
 "nbformat": 4,
 "nbformat_minor": 2
}
